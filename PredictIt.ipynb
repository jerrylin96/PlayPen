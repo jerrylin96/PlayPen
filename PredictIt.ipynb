{
 "cells": [
  {
   "cell_type": "markdown",
   "metadata": {},
   "source": [
    "# Packages"
   ]
  },
  {
   "cell_type": "code",
   "execution_count": 1,
   "metadata": {},
   "outputs": [],
   "source": [
    "import statistics\n",
    "import numpy as np"
   ]
  },
  {
   "cell_type": "markdown",
   "metadata": {},
   "source": [
    "# Basics"
   ]
  },
  {
   "cell_type": "code",
   "execution_count": 5,
   "metadata": {},
   "outputs": [],
   "source": [
    "def contract(shares, price, win):\n",
    "    amt = 0\n",
    "    profit_fee = .9\n",
    "    if win:\n",
    "        amt = profit_fee*(shares - shares*price)+shares*price\n",
    "    return amt\n",
    "\n",
    "def withdraw(x):\n",
    "    withdrawal_fee = .05\n",
    "    return (1-withdrawal_fee)*x\n",
    "\n",
    "def tax(winnings):\n",
    "    federal_gambling_tax = .24\n",
    "    state_income_tax = .04\n",
    "    winnings = winnings*(1-state_income_tax)*(1-federal_gambling_tax)\n",
    "    return winnings\n",
    "    \n",
    "def predictit(contracts):\n",
    "    initial_investment = 0\n",
    "    total = 0\n",
    "    for x in contracts:\n",
    "        initial_investment = initial_investment + x[0]*x[1]\n",
    "        total = total + contract(x[0], x[1], x[2])\n",
    "    total = withdraw(total)\n",
    "    if total > initial_investment:\n",
    "        total = tax(total-initial_investment) + initial_investment\n",
    "    return total"
   ]
  },
  {
   "cell_type": "code",
   "execution_count": 7,
   "metadata": {},
   "outputs": [
    {
     "data": {
      "text/plain": [
       "380.08432383999997"
      ]
     },
     "execution_count": 7,
     "metadata": {},
     "output_type": "execute_result"
    }
   ],
   "source": [
    "predictit([[403,.94,True]])"
   ]
  },
  {
   "cell_type": "markdown",
   "metadata": {},
   "source": [
    "# Hedge"
   ]
  },
  {
   "cell_type": "code",
   "execution_count": 14,
   "metadata": {},
   "outputs": [],
   "source": [
    "def hedge(priceHedge, priceOrigin, hedgePercent, investmentTotal):\n",
    "    xMargin = .9*(1/priceHedge-1)\n",
    "    yMargin = .9*(1/priceOrigin-1)\n",
    "    x = hedgePercent*investmentTotal\n",
    "    y = investmentTotal - x\n",
    "    cost = [x*xMargin - y, y*yMargin - x]\n",
    "    return cost\n",
    "def hedgeOpp(priceHedge, priceOrigin, hedgePercent, investmentTotal):\n",
    "    xMargin = .9*(1/priceHedge-1)\n",
    "    yMargin = .9*(1/priceOrigin-1)\n",
    "    x = hedgePercent*investmentTotal\n",
    "    y = investmentTotal - x\n",
    "    cost = [x*xMargin - y >= 0, y*yMargin - x >= 0]\n",
    "    return sum(cost)==2"
   ]
  },
  {
   "cell_type": "code",
   "execution_count": 41,
   "metadata": {},
   "outputs": [
    {
     "data": {
      "text/plain": [
       "array([[array([-1000.,   300.]), 0.0],\n",
       "       [array([-889.92,  273.47]), 0.02],\n",
       "       [array([-779.83,  246.94]), 0.04],\n",
       "       [array([-669.75,  220.41]), 0.06],\n",
       "       [array([-559.66,  193.88]), 0.08],\n",
       "       [array([-449.58,  167.35]), 0.1],\n",
       "       [array([-339.5 ,  140.82]), 0.12],\n",
       "       [array([-229.41,  114.29]), 0.14],\n",
       "       [array([-119.33,   87.76]), 0.16],\n",
       "       [array([-9.24, 61.22]), 0.18],\n",
       "       [array([100.84,  34.69]), 0.2],\n",
       "       [array([210.92,   8.16]), 0.22],\n",
       "       [array([321.01, -18.37]), 0.24],\n",
       "       [array([431.09, -44.9 ]), 0.27],\n",
       "       [array([541.18, -71.43]), 0.29],\n",
       "       [array([651.26, -97.96]), 0.31],\n",
       "       [array([ 761.34, -124.49]), 0.33],\n",
       "       [array([ 871.43, -151.02]), 0.35],\n",
       "       [array([ 981.51, -177.55]), 0.37],\n",
       "       [array([1091.6 , -204.08]), 0.39],\n",
       "       [array([1201.68, -230.61]), 0.41],\n",
       "       [array([1311.76, -257.14]), 0.43],\n",
       "       [array([1421.85, -283.67]), 0.45],\n",
       "       [array([1531.93, -310.2 ]), 0.47],\n",
       "       [array([1642.02, -336.73]), 0.49],\n",
       "       [array([1752.1 , -363.27]), 0.51],\n",
       "       [array([1862.18, -389.8 ]), 0.53],\n",
       "       [array([1972.27, -416.33]), 0.55],\n",
       "       [array([2082.35, -442.86]), 0.57],\n",
       "       [array([2192.44, -469.39]), 0.59],\n",
       "       [array([2302.52, -495.92]), 0.61],\n",
       "       [array([2412.61, -522.45]), 0.63],\n",
       "       [array([2522.69, -548.98]), 0.65],\n",
       "       [array([2632.77, -575.51]), 0.67],\n",
       "       [array([2742.86, -602.04]), 0.69],\n",
       "       [array([2852.94, -628.57]), 0.71],\n",
       "       [array([2963.03, -655.1 ]), 0.73],\n",
       "       [array([3073.11, -681.63]), 0.76],\n",
       "       [array([3183.19, -708.16]), 0.78],\n",
       "       [array([3293.28, -734.69]), 0.8],\n",
       "       [array([3403.36, -761.22]), 0.82],\n",
       "       [array([3513.45, -787.76]), 0.84],\n",
       "       [array([3623.53, -814.29]), 0.86],\n",
       "       [array([3733.61, -840.82]), 0.88],\n",
       "       [array([3843.7 , -867.35]), 0.9],\n",
       "       [array([3953.78, -893.88]), 0.92],\n",
       "       [array([4063.87, -920.41]), 0.94],\n",
       "       [array([4173.95, -946.94]), 0.96],\n",
       "       [array([4284.03, -973.47]), 0.98],\n",
       "       [array([ 4394.12, -1000.  ]), 1.0]], dtype=object)"
      ]
     },
     "execution_count": 41,
     "metadata": {},
     "output_type": "execute_result"
    }
   ],
   "source": [
    "tries = np.linspace(0,100)*.01\n",
    "results = np.array([[np.round(hedge(.17, .75, perc, 1000),2)] + [np.round(perc,2)] for perc in tries])\n",
    "results"
   ]
  },
  {
   "cell_type": "code",
   "execution_count": 39,
   "metadata": {},
   "outputs": [
    {
     "data": {
      "text/plain": [
       "[array([0., 0.]),\n",
       " array([0.  , 0.02]),\n",
       " array([0.  , 0.04]),\n",
       " array([0.  , 0.06]),\n",
       " array([0.  , 0.08]),\n",
       " array([0. , 0.1]),\n",
       " array([0.  , 0.12]),\n",
       " array([0.  , 0.14]),\n",
       " array([0.  , 0.16]),\n",
       " array([0.  , 0.18]),\n",
       " array([0. , 0.2]),\n",
       " array([0.  , 0.22]),\n",
       " array([0.  , 0.24]),\n",
       " array([0.  , 0.27]),\n",
       " array([0.  , 0.29]),\n",
       " array([0.  , 0.31]),\n",
       " array([0.  , 0.33]),\n",
       " array([0.  , 0.35]),\n",
       " array([0.  , 0.37]),\n",
       " array([0.  , 0.39]),\n",
       " array([0.  , 0.41]),\n",
       " array([0.  , 0.43]),\n",
       " array([0.  , 0.45]),\n",
       " array([0.  , 0.47]),\n",
       " array([0.  , 0.49]),\n",
       " array([0.  , 0.51]),\n",
       " array([0.  , 0.53]),\n",
       " array([0.  , 0.55]),\n",
       " array([0.  , 0.57]),\n",
       " array([0.  , 0.59]),\n",
       " array([0.  , 0.61]),\n",
       " array([0.  , 0.63]),\n",
       " array([0.  , 0.65]),\n",
       " array([0.  , 0.67]),\n",
       " array([0.  , 0.69]),\n",
       " array([0.  , 0.71]),\n",
       " array([0.  , 0.73]),\n",
       " array([0.  , 0.76]),\n",
       " array([0.  , 0.78]),\n",
       " array([0. , 0.8]),\n",
       " array([0.  , 0.82]),\n",
       " array([0.  , 0.84]),\n",
       " array([0.  , 0.86]),\n",
       " array([0.  , 0.88]),\n",
       " array([0. , 0.9]),\n",
       " array([0.  , 0.92]),\n",
       " array([0.  , 0.94]),\n",
       " array([0.  , 0.96]),\n",
       " array([0.  , 0.98]),\n",
       " array([0., 1.])]"
      ]
     },
     "execution_count": 39,
     "metadata": {},
     "output_type": "execute_result"
    }
   ],
   "source": [
    "tries = np.linspace(0,100)*.01\n",
    "results = np.array([[hedgeOpp(.45, .75, perc, 1000)] + [np.round(perc,2)] for perc in tries])\n",
    "[x for x in results]\n"
   ]
  },
  {
   "cell_type": "code",
   "execution_count": 20,
   "metadata": {},
   "outputs": [
    {
     "data": {
      "text/plain": [
       "False"
      ]
     },
     "execution_count": 20,
     "metadata": {},
     "output_type": "execute_result"
    }
   ],
   "source": [
    "hedgeOpp(.1, .75, .05, 1000)"
   ]
  },
  {
   "cell_type": "code",
   "execution_count": 137,
   "metadata": {},
   "outputs": [
    {
     "data": {
      "text/plain": [
       "array([0.75510204, 0.7755102 , 0.79591837, 0.81632653, 0.83673469,\n",
       "       0.85714286, 0.87755102, 0.89795918, 0.91836735, 0.93877551,\n",
       "       0.95918367, 0.97959184, 1.        ])"
      ]
     },
     "execution_count": 137,
     "metadata": {},
     "output_type": "execute_result"
    }
   ],
   "source": [
    "tries[indices]"
   ]
  },
  {
   "cell_type": "code",
   "execution_count": 164,
   "metadata": {},
   "outputs": [
    {
     "data": {
      "text/plain": [
       "array([ 577.58, -571.53])"
      ]
     },
     "execution_count": 164,
     "metadata": {},
     "output_type": "execute_result"
    }
   ],
   "source": [
    "np.round(hedge(.42, .75, .75, 846.71), 2)"
   ]
  },
  {
   "cell_type": "code",
   "execution_count": 162,
   "metadata": {},
   "outputs": [
    {
     "data": {
      "text/plain": [
       "'wo'"
      ]
     },
     "execution_count": 162,
     "metadata": {},
     "output_type": "execute_result"
    }
   ],
   "source": [
    "\"wow\"[0:2]"
   ]
  }
 ],
 "metadata": {
  "kernelspec": {
   "display_name": "Python 3",
   "language": "python",
   "name": "python3"
  },
  "language_info": {
   "codemirror_mode": {
    "name": "ipython",
    "version": 3
   },
   "file_extension": ".py",
   "mimetype": "text/x-python",
   "name": "python",
   "nbconvert_exporter": "python",
   "pygments_lexer": "ipython3",
   "version": "3.6.7"
  }
 },
 "nbformat": 4,
 "nbformat_minor": 2
}
